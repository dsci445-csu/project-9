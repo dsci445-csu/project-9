{
 "cells": [
  {
   "cell_type": "code",
   "execution_count": 2,
   "id": "4b15763a",
   "metadata": {},
   "outputs": [],
   "source": [
    "import pandas as pd\n",
    "import numpy as np \n",
    "from statistics import mean"
   ]
  },
  {
   "cell_type": "code",
   "execution_count": 3,
   "id": "a3d12dae",
   "metadata": {},
   "outputs": [
    {
     "data": {
      "text/html": [
       "<div>\n",
       "<style scoped>\n",
       "    .dataframe tbody tr th:only-of-type {\n",
       "        vertical-align: middle;\n",
       "    }\n",
       "\n",
       "    .dataframe tbody tr th {\n",
       "        vertical-align: top;\n",
       "    }\n",
       "\n",
       "    .dataframe thead th {\n",
       "        text-align: right;\n",
       "    }\n",
       "</style>\n",
       "<table border=\"1\" class=\"dataframe\">\n",
       "  <thead>\n",
       "    <tr style=\"text-align: right;\">\n",
       "      <th></th>\n",
       "      <th>dataVersion</th>\n",
       "      <th>matchId</th>\n",
       "      <th>participants</th>\n",
       "    </tr>\n",
       "  </thead>\n",
       "  <tbody>\n",
       "    <tr>\n",
       "      <th>0</th>\n",
       "      <td>2</td>\n",
       "      <td>NA1_5272522451</td>\n",
       "      <td>[ZPVRzI2AT1wgZhxjtaDI3h80s3X4eiKQZnkTZLOd5yr88...</td>\n",
       "    </tr>\n",
       "    <tr>\n",
       "      <th>1</th>\n",
       "      <td>2</td>\n",
       "      <td>NA1_5228977035</td>\n",
       "      <td>[PHFC8ye_OgxGH7zpIqSEVvalDOIqsh38air5l_1G3y3bQ...</td>\n",
       "    </tr>\n",
       "    <tr>\n",
       "      <th>2</th>\n",
       "      <td>2</td>\n",
       "      <td>NA1_5272507594</td>\n",
       "      <td>[lgr9k4BJU3kIwyZ9OZOpDmSMdq9qaWfHyNKcy1Va9ABB9...</td>\n",
       "    </tr>\n",
       "  </tbody>\n",
       "</table>\n",
       "</div>"
      ],
      "text/plain": [
       "  dataVersion         matchId  \\\n",
       "0           2  NA1_5272522451   \n",
       "1           2  NA1_5228977035   \n",
       "2           2  NA1_5272507594   \n",
       "\n",
       "                                        participants  \n",
       "0  [ZPVRzI2AT1wgZhxjtaDI3h80s3X4eiKQZnkTZLOd5yr88...  \n",
       "1  [PHFC8ye_OgxGH7zpIqSEVvalDOIqsh38air5l_1G3y3bQ...  \n",
       "2  [lgr9k4BJU3kIwyZ9OZOpDmSMdq9qaWfHyNKcy1Va9ABB9...  "
      ]
     },
     "execution_count": 3,
     "metadata": {},
     "output_type": "execute_result"
    }
   ],
   "source": [
    "timelines_data = pd.read_json(\"data/timelines_wv5j6VBEmzdK2utXs45NnlvPvwRXMOsBEHIP6zAME2UE5yWGQnO4QGdPES59nYZ3smWsod2ne8IVZQ.jsonl\", lines = True)\n",
    "timelines = pd.DataFrame(timelines_data['metadata'].to_list())\n",
    "timelines.head(3)"
   ]
  },
  {
   "cell_type": "markdown",
   "id": "e03d2a90",
   "metadata": {},
   "source": [
    "First, we read our json. Note that the data that I am providing is \".jsonl\"; this means that we need to include the `lines=True` argument.\n",
    "\n",
    "Then, we look at the metadata component of the timelines data. This gives us the PUUIDs for users (also accessible in the info section; see below) and matchId. matchId is very important for removing duplicate entries from the dataframe (but is also available in the info section).\n",
    "\n",
    "All-in-all, we can discard this portion of our data."
   ]
  },
  {
   "cell_type": "code",
   "execution_count": 4,
   "id": "53290c71",
   "metadata": {},
   "outputs": [
    {
     "data": {
      "text/html": [
       "<div>\n",
       "<style scoped>\n",
       "    .dataframe tbody tr th:only-of-type {\n",
       "        vertical-align: middle;\n",
       "    }\n",
       "\n",
       "    .dataframe tbody tr th {\n",
       "        vertical-align: top;\n",
       "    }\n",
       "\n",
       "    .dataframe thead th {\n",
       "        text-align: right;\n",
       "    }\n",
       "</style>\n",
       "<table border=\"1\" class=\"dataframe\">\n",
       "  <thead>\n",
       "    <tr style=\"text-align: right;\">\n",
       "      <th></th>\n",
       "      <th>endOfGameResult</th>\n",
       "      <th>frameInterval</th>\n",
       "      <th>frames</th>\n",
       "      <th>gameId</th>\n",
       "      <th>participants</th>\n",
       "    </tr>\n",
       "  </thead>\n",
       "  <tbody>\n",
       "    <tr>\n",
       "      <th>0</th>\n",
       "      <td>GameComplete</td>\n",
       "      <td>60000</td>\n",
       "      <td>[{'events': [{'realTimestamp': 1745346410073, ...</td>\n",
       "      <td>5272522451</td>\n",
       "      <td>[{'participantId': 1, 'puuid': 'ZPVRzI2AT1wgZh...</td>\n",
       "    </tr>\n",
       "    <tr>\n",
       "      <th>1</th>\n",
       "      <td>GameComplete</td>\n",
       "      <td>60000</td>\n",
       "      <td>[{'events': [{'realTimestamp': 1739503531840, ...</td>\n",
       "      <td>5228977035</td>\n",
       "      <td>[{'participantId': 1, 'puuid': 'PHFC8ye_OgxGH7...</td>\n",
       "    </tr>\n",
       "    <tr>\n",
       "      <th>2</th>\n",
       "      <td>GameComplete</td>\n",
       "      <td>60000</td>\n",
       "      <td>[{'events': [{'realTimestamp': 1745344123861, ...</td>\n",
       "      <td>5272507594</td>\n",
       "      <td>[{'participantId': 1, 'puuid': 'lgr9k4BJU3kIwy...</td>\n",
       "    </tr>\n",
       "  </tbody>\n",
       "</table>\n",
       "</div>"
      ],
      "text/plain": [
       "  endOfGameResult  frameInterval  \\\n",
       "0    GameComplete          60000   \n",
       "1    GameComplete          60000   \n",
       "2    GameComplete          60000   \n",
       "\n",
       "                                              frames      gameId  \\\n",
       "0  [{'events': [{'realTimestamp': 1745346410073, ...  5272522451   \n",
       "1  [{'events': [{'realTimestamp': 1739503531840, ...  5228977035   \n",
       "2  [{'events': [{'realTimestamp': 1745344123861, ...  5272507594   \n",
       "\n",
       "                                        participants  \n",
       "0  [{'participantId': 1, 'puuid': 'ZPVRzI2AT1wgZh...  \n",
       "1  [{'participantId': 1, 'puuid': 'PHFC8ye_OgxGH7...  \n",
       "2  [{'participantId': 1, 'puuid': 'lgr9k4BJU3kIwy...  "
      ]
     },
     "execution_count": 4,
     "metadata": {},
     "output_type": "execute_result"
    }
   ],
   "source": [
    "timelines = pd.DataFrame(timelines_data['info'].to_list())\n",
    "timelines.head(3)"
   ]
  },
  {
   "cell_type": "code",
   "execution_count": 64,
   "id": "4cc74719",
   "metadata": {},
   "outputs": [
    {
     "name": "stdout",
     "output_type": "stream",
     "text": [
      "{'GameComplete'}\n"
     ]
    }
   ],
   "source": [
    "print(set(timelines['endOfGameResult']))"
   ]
  },
  {
   "cell_type": "code",
   "execution_count": 70,
   "id": "c5e94710",
   "metadata": {},
   "outputs": [
    {
     "name": "stdout",
     "output_type": "stream",
     "text": [
      "{60000}\n"
     ]
    }
   ],
   "source": [
    "print(set(timelines['frameInterval']))"
   ]
  },
  {
   "cell_type": "code",
   "execution_count": 72,
   "id": "a16f7108",
   "metadata": {},
   "outputs": [
    {
     "name": "stdout",
     "output_type": "stream",
     "text": [
      "422\n"
     ]
    }
   ],
   "source": [
    "print(len(set(timelines['gameId'])))"
   ]
  },
  {
   "cell_type": "markdown",
   "id": "810c4491",
   "metadata": {},
   "source": [
    "The `'info'` portion of the data has only a few columns. \n",
    "\n",
    "`endOfGameResult` is whether the game ended normally (through nexus destruction or forfeit) or was premtively ended for other reasons. We should probably discard games that did not end in \"GameComplete\". Fortunately, all of the ones here did.\n",
    "\n",
    "`frameInterval` is how long in milliseconds between each frame snapshot.\n",
    "\n",
    "`frames` is a massive list of nested lists and dictionaries that lay out data about the game taken at an interval.\n",
    "\n",
    "`gameId` is the unique identifier for the game; we should discard duplicates\n",
    "\n",
    "`participants` is a dictionary containing puuids and participant ids for players within the match. Potentially useful for giving the model data about a player's performance in previous games or their rank.\n",
    "\n",
    "\n",
    "Curiously, we can't actually directly get the result of the game through any of our data here. It means we will have to include data from the other API endpoint, \"Match Data\".\n",
    "\n",
    "*Let's dig in to `frames` more...*"
   ]
  },
  {
   "cell_type": "code",
   "execution_count": 5,
   "id": "84fa928a",
   "metadata": {},
   "outputs": [
    {
     "data": {
      "text/plain": [
       "[{'itemId': 3340,\n",
       "  'participantId': 7,\n",
       "  'timestamp': 61482,\n",
       "  'type': 'ITEM_DESTROYED'},\n",
       " {'itemId': 3364,\n",
       "  'participantId': 7,\n",
       "  'timestamp': 61482,\n",
       "  'type': 'ITEM_PURCHASED'},\n",
       " {'creatorId': 10,\n",
       "  'timestamp': 70233,\n",
       "  'type': 'WARD_PLACED',\n",
       "  'wardType': 'UNDEFINED'}]"
      ]
     },
     "execution_count": 5,
     "metadata": {},
     "output_type": "execute_result"
    }
   ],
   "source": [
    "entry_idx = 0\n",
    "time = 2\n",
    "timelines['frames'][entry_idx][time]['events'][:3]"
   ]
  },
  {
   "cell_type": "markdown",
   "id": "5a5b99f5",
   "metadata": {},
   "source": [
    "Here's the first 3 events on the `time`= 2 or 2 * `frameInterval`, which simplifies to simply being between the 1 and 2 minute marks in the game. \n",
    "\n",
    "Effectively, this is a log of what participants did; you can see that participant 7 purchased item 3340 at 61 seconds in or that participant 10 placed a ward at 70 seconds."
   ]
  },
  {
   "cell_type": "code",
   "execution_count": 6,
   "id": "b9eae99d",
   "metadata": {},
   "outputs": [],
   "source": [
    "frames_15 = timelines[timelines['frames'].apply(lambda x: len(x) > 15)]"
   ]
  },
  {
   "cell_type": "code",
   "execution_count": 7,
   "id": "d45c3d6e",
   "metadata": {},
   "outputs": [
    {
     "name": "stdout",
     "output_type": "stream",
     "text": [
      "1    0.6650602409638554\n",
      "2    85.77831325301204\n",
      "3    0.6120481927710844\n",
      "4    0.27710843373493976\n",
      "5    0.26506024096385544\n",
      "6    0.43614457831325304\n",
      "7    84.57590361445783\n",
      "8    0.327710843373494\n",
      "9    0.2891566265060241\n",
      "10    0.26987951807228916\n"
     ]
    }
   ],
   "source": [
    "for p in list(map(str,range(1, 11))):\n",
    "    frames = mean(f[15]['participantFrames'][p]['jungleMinionsKilled'] for f in frames_15['frames'])\n",
    "    print(str(p) + \"    \" + str(frames))"
   ]
  },
  {
   "cell_type": "markdown",
   "id": "a217be1b",
   "metadata": {},
   "source": [
    "With the frames data, we can get information such as jungle minions killed per position. It looks like participant 1, the blue side toplaner, tends to kill more jungle minions by about 50% than the opposing top laner... That's interesting.\n",
    "\n",
    "We can also get other good info like this:"
   ]
  },
  {
   "cell_type": "code",
   "execution_count": 14,
   "id": "698632f5",
   "metadata": {},
   "outputs": [],
   "source": [
    "from enum import Enum\n",
    "class Position(Enum):\n",
    "    B_TOP = '1'\n",
    "    B_JGL = '2'\n",
    "    B_MID = '3'\n",
    "    B_ADC = '4'\n",
    "    B_SUP = '5'\n",
    "\n",
    "    R_TOP = '6'\n",
    "    R_JGL = '7'\n",
    "    R_MID = '8'\n",
    "    R_ADC = '9'\n",
    "    R_SUP = '10'"
   ]
  },
  {
   "cell_type": "code",
   "execution_count": null,
   "id": "0fbfc4f5",
   "metadata": {},
   "outputs": [],
   "source": [
    "frames_15['frames'][15][1]['participantFrames']['1']['damageStats']['totalDamageDoneToChampions']"
   ]
  },
  {
   "cell_type": "code",
   "execution_count": 34,
   "id": "ee31990c",
   "metadata": {},
   "outputs": [
    {
     "name": "stdout",
     "output_type": "stream",
     "text": [
      "Position.B_TOP  8473.404819277108\n",
      "Position.B_JGL  6063.04578313253\n",
      "Position.B_MID  8073.238554216868\n",
      "Position.B_ADC  8111.284337349398\n",
      "Position.B_SUP  5469.46265060241\n",
      "Position.R_TOP  8558.32048192771\n",
      "Position.R_JGL  5871.086746987952\n",
      "Position.R_MID  8126.253012048192\n",
      "Position.R_ADC  7810.443373493976\n",
      "Position.R_SUP  5405.134939759037\n",
      "Highest Damage Position @15m: 8558.32048192771\n",
      "Lowest Damage Position @15m: 5405.134939759037\n"
     ]
    }
   ],
   "source": [
    "positions = dict()\n",
    "for p in Position:\n",
    "    damage = mean(f[15]['participantFrames'][p.value]['damageStats']['totalDamageDoneToChampions'] for f in frames_15['frames'])\n",
    "    print(str(p) + \"  \" + str(damage))\n",
    "    positions.update({str(p) : damage})\n",
    "\n",
    "print(\"Highest Damage Position @15m: \" + str(max(positions.values())))\n",
    "print(\"Lowest Damage Position @15m: \" + str(min(positions.values())))\n"
   ]
  },
  {
   "cell_type": "markdown",
   "id": "ef72ca70",
   "metadata": {},
   "source": [
    "We can see that the red team toplaner typically does the most damage to champions at 15 minutes."
   ]
  },
  {
   "cell_type": "code",
   "execution_count": 51,
   "id": "944194d9",
   "metadata": {},
   "outputs": [
    {
     "name": "stdout",
     "output_type": "stream",
     "text": [
      "blue: 7238.087228915662  red:  7154.247710843373\n"
     ]
    }
   ],
   "source": [
    "blue_mean_damage = mean(list(positions.values())[:5])\n",
    "red_mean_damage = mean(list(positions.values())[-5:])\n",
    "\n",
    "print(\"blue: \" + str(blue_mean_damage) + \"  red:  \" + str(red_mean_damage))"
   ]
  },
  {
   "cell_type": "markdown",
   "id": "c204be54",
   "metadata": {},
   "source": [
    "# Model Time\n",
    "\n",
    "Okay so all of that's great but let's start thinking about what we might actually use to get a model running.\n",
    "\n",
    "The goal of the project is to provide feedback on specific actions similar to the chess.com game summary page.\n",
    "\n",
    "(What I am confused about is if we make a model that takes a full set of match data, how we can then provide feedback to individual moves. Like how do we know that buying an item at 12 minutes actually impacts the outcome?)"
   ]
  },
  {
   "cell_type": "code",
   "execution_count": 86,
   "id": "7d120558",
   "metadata": {},
   "outputs": [
    {
     "data": {
      "text/plain": [
       "[{'creatorId': 9,\n",
       "  'timestamp': 859805,\n",
       "  'type': 'WARD_PLACED',\n",
       "  'wardType': 'YELLOW_TRINKET'},\n",
       " {'creatorId': 10,\n",
       "  'timestamp': 860272,\n",
       "  'type': 'WARD_PLACED',\n",
       "  'wardType': 'CONTROL_WARD'}]"
      ]
     },
     "execution_count": 86,
     "metadata": {},
     "output_type": "execute_result"
    }
   ],
   "source": [
    "entry_idx = 200\n",
    "minute = 15\n",
    "\n",
    "# We can get specific event types like this\n",
    "# This is all the wards placed in one of our games between 14 and 15 minutes:\n",
    "events = frames_15['frames'][entry_idx][minute]['events']\n",
    "wards = [e for e in events if e['type'] == 'WARD_PLACED']\n",
    "print(wards)\n"
   ]
  },
  {
   "cell_type": "code",
   "execution_count": 96,
   "id": "e6b50533",
   "metadata": {},
   "outputs": [
    {
     "data": {
      "text/plain": [
       "2"
      ]
     },
     "execution_count": 96,
     "metadata": {},
     "output_type": "execute_result"
    }
   ],
   "source": [
    "kills = [e for e in events if e['type'] == 'CHAMPION_KILL']\n",
    "len(kills)"
   ]
  },
  {
   "cell_type": "code",
   "execution_count": 100,
   "id": "12827a6b",
   "metadata": {},
   "outputs": [
    {
     "data": {
      "text/plain": [
       "{'x': 12954, 'y': 3378}"
      ]
     },
     "execution_count": 100,
     "metadata": {},
     "output_type": "execute_result"
    }
   ],
   "source": [
    "kills[0]['position']"
   ]
  },
  {
   "cell_type": "code",
   "execution_count": 87,
   "id": "71f3bebb",
   "metadata": {},
   "outputs": [
    {
     "data": {
      "text/plain": [
       "{'x': 3066, 'y': 12569}"
      ]
     },
     "execution_count": 87,
     "metadata": {},
     "output_type": "execute_result"
    }
   ],
   "source": [
    "frames_15['frames'][entry_idx][minute]['participantFrames']['1']['position']"
   ]
  }
 ],
 "metadata": {
  "kernelspec": {
   "display_name": ".venv",
   "language": "python",
   "name": "python3"
  },
  "language_info": {
   "codemirror_mode": {
    "name": "ipython",
    "version": 3
   },
   "file_extension": ".py",
   "mimetype": "text/x-python",
   "name": "python",
   "nbconvert_exporter": "python",
   "pygments_lexer": "ipython3",
   "version": "3.12.10"
  }
 },
 "nbformat": 4,
 "nbformat_minor": 5
}
